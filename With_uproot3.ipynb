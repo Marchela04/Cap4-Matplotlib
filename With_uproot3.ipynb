{
 "cells": [
  {
   "cell_type": "code",
   "execution_count": 1,
   "id": "necessary-vietnamese",
   "metadata": {},
   "outputs": [],
   "source": [
    "import uproot3 as uproot\n",
    "import pandas as pd\n",
    "import numpy as np"
   ]
  },
  {
   "cell_type": "code",
   "execution_count": 2,
   "id": "photographic-characterization",
   "metadata": {},
   "outputs": [],
   "source": [
    "samples_dic= {'data': [['data', 'data_A'], \n",
    "                       ['data', 'data_B'], \n",
    "                       ['data', 'data_C'], \n",
    "                       ['data', 'data_D']],\n",
    "              'higgs': [['mc', 'mc_345060.ggH125_ZZ4lep'], \n",
    "                        ['mc', 'mc_344235.VBFH125_ZZ4lep']], \n",
    "              'zz': [['mc', 'mc_363490.llll']], \n",
    "              'other': [['mc', 'mc_361106.Zee'], \n",
    "                        ['mc', 'mc_361107.Zmumu']]}"
   ]
  },
  {
   "cell_type": "code",
   "execution_count": 3,
   "id": "gorgeous-thinking",
   "metadata": {},
   "outputs": [],
   "source": [
    "processes = samples_dic.keys()\n",
    "Tuples={}\n",
    "samples=[]\n",
    "for p in processes:\n",
    "    for d in samples_dic[p]:\n",
    "        # Load the dataframes\n",
    "        folder = d[0] # Folder name\n",
    "        sample = d[1] # Sample name\n",
    "        samples.append(sample)\n",
    "        #df[sample] = ROOT.RDataFrame(\"mini\", \"{}/4lep/{}/{}.4lep.root\".format(path, folder, sample))\n",
    "        #DataUproot = uproot.open(f'./samples_noFilter_GEM_{sample}.root')\n",
    "        DataUproot = uproot.open(f'./Cap4-Matplotlib/new_root_FilterGem_{sample}.root')\n",
    "        Tuples[sample] = DataUproot['myTree']"
   ]
  },
  {
   "cell_type": "markdown",
   "id": "baking-triumph",
   "metadata": {},
   "source": [
    "Primero leemos todas las branches que comiencen con `lep`"
   ]
  },
  {
   "cell_type": "code",
   "execution_count": 4,
   "id": "composed-criminal",
   "metadata": {},
   "outputs": [
    {
     "data": {
      "text/plain": [
       "[b'goodlep_E',\n",
       " b'lep_E',\n",
       " b'runNumber',\n",
       " b'lep_trackd0pvunbiased',\n",
       " b'eventNumber',\n",
       " b'goodlep_phi',\n",
       " b'm4l',\n",
       " b'lep_pt',\n",
       " b'goodlep_eta',\n",
       " b'lep_phi',\n",
       " b'trigP',\n",
       " b'channelNumber',\n",
       " b'goodlep_pt',\n",
       " b'lep_tracksigd0pvunbiased',\n",
       " b'lep_ptcone30',\n",
       " b'weight',\n",
       " b'lep_etcone20',\n",
       " b'lep_charge',\n",
       " b'lep_trigMatched',\n",
       " b'met_et',\n",
       " b'trigM',\n",
       " b'sum_good_lep',\n",
       " b'lep_type',\n",
       " b'lep_isTightID',\n",
       " b'trigE',\n",
       " b'lep_truthMatched',\n",
       " b'met_phi',\n",
       " b'XSection',\n",
       " b'lep_n',\n",
       " b'goodlep_sumtypes',\n",
       " b'lep_eta',\n",
       " b'good_lep',\n",
       " b'sum_lep_charge',\n",
       " b'lep_z0']"
      ]
     },
     "execution_count": 4,
     "metadata": {},
     "output_type": "execute_result"
    }
   ],
   "source": [
    "list(Tuples['data_A'].allkeys())"
   ]
  },
  {
   "cell_type": "code",
   "execution_count": 5,
   "id": "nervous-encounter",
   "metadata": {},
   "outputs": [
    {
     "data": {
      "text/plain": [
       "{'data_A': <TTree b'myTree' at 0x7fd3a82ee430>,\n",
       " 'data_B': <TTree b'myTree' at 0x7fd3ac033970>,\n",
       " 'data_C': <TTree b'myTree' at 0x7fd3ac03f250>,\n",
       " 'data_D': <TTree b'myTree' at 0x7fd36f5ab2b0>,\n",
       " 'mc_345060.ggH125_ZZ4lep': <TTree b'myTree' at 0x7fd36f559fd0>,\n",
       " 'mc_344235.VBFH125_ZZ4lep': <TTree b'myTree' at 0x7fd36f520dc0>,\n",
       " 'mc_363490.llll': <TTree b'myTree' at 0x7fd36f4d1730>,\n",
       " 'mc_361106.Zee': <TTree b'myTree' at 0x7fd36cb5b850>,\n",
       " 'mc_361107.Zmumu': <TTree b'myTree' at 0x7fd369b2dd00>}"
      ]
     },
     "execution_count": 5,
     "metadata": {},
     "output_type": "execute_result"
    }
   ],
   "source": [
    "Tuples"
   ]
  },
  {
   "cell_type": "code",
   "execution_count": 6,
   "id": "conditional-niger",
   "metadata": {},
   "outputs": [],
   "source": [
    "branches={}\n",
    "for s in samples:\n",
    "    branches[s] = Tuples[s].arrays(namedecode='utf-8')"
   ]
  },
  {
   "cell_type": "code",
   "execution_count": 7,
   "id": "answering-circle",
   "metadata": {},
   "outputs": [],
   "source": [
    "import matplotlib.pyplot as plt"
   ]
  },
  {
   "cell_type": "code",
   "execution_count": 8,
   "id": "lucky-poster",
   "metadata": {},
   "outputs": [
    {
     "data": {
      "text/plain": [
       "(array([ 3., 13.,  3.,  5.,  4.,  2.,  0.,  0.,  1.,  1.]),\n",
       " array([ 19.312525,  82.30848 , 145.30444 , 208.3004  , 271.29636 ,\n",
       "        334.2923  , 397.28827 , 460.2842  , 523.28015 , 586.2761  ,\n",
       "        649.2721  ], dtype=float32),\n",
       " <a list of 10 Patch objects>)"
      ]
     },
     "execution_count": 8,
     "metadata": {},
     "output_type": "execute_result"
    },
    {
     "data": {
      "image/png": "[encoded data removed]",
      "text/plain": [
       "<Figure size 432x288 with 1 Axes>"
      ]
     },
     "metadata": {
      "needs_background": "light"
     },
     "output_type": "display_data"
    }
   ],
   "source": [
    "plt.hist(branches['data_A']['m4l'])"
   ]
  },
  {
   "cell_type": "markdown",
   "id": "central-belgium",
   "metadata": {},
   "source": [
    "# Selection"
   ]
  },
  {
   "cell_type": "markdown",
   "id": "complicated-frame",
   "metadata": {},
   "source": [
    "- sum good leptons\n",
    "- sum charge\n",
    "- sum types"
   ]
  },
  {
   "cell_type": "markdown",
   "id": "conscious-fundamental",
   "metadata": {},
   "source": [
    "### Example of a simple selection"
   ]
  },
  {
   "cell_type": "code",
   "execution_count": 9,
   "id": "physical-ideal",
   "metadata": {
    "tags": []
   },
   "outputs": [],
   "source": [
    "sum_leptons_test = branches['data_A']['sum_good_lep'] == 4"
   ]
  },
  {
   "cell_type": "code",
   "execution_count": 10,
   "id": "mysterious-trauma",
   "metadata": {},
   "outputs": [
    {
     "data": {
      "text/plain": [
       "<JaggedArray [[1 1 1 1] [1 1 1 1] [1 1 1 0] ... [1 1 0 0] [1 1 1 1] [1 0 1 1]] at 0x7fd3611b33a0>"
      ]
     },
     "execution_count": 10,
     "metadata": {},
     "output_type": "execute_result"
    }
   ],
   "source": [
    " branches['data_A']['good_lep']"
   ]
  },
  {
   "cell_type": "code",
   "execution_count": 11,
   "id": "thrown-cartridge",
   "metadata": {},
   "outputs": [
    {
     "data": {
      "text/plain": [
       "array([ True,  True, False,  True,  True,  True, False,  True,  True,\n",
       "        True, False,  True, False,  True,  True,  True,  True,  True,\n",
       "        True, False,  True,  True,  True,  True,  True,  True,  True,\n",
       "        True, False, False,  True, False])"
      ]
     },
     "execution_count": 11,
     "metadata": {},
     "output_type": "execute_result"
    }
   ],
   "source": [
    "sum_leptons_test"
   ]
  },
  {
   "cell_type": "markdown",
   "id": "sticky-northwest",
   "metadata": {},
   "source": [
    "## All the selection for this analysis"
   ]
  },
  {
   "cell_type": "code",
   "execution_count": 12,
   "id": "central-rocket",
   "metadata": {},
   "outputs": [],
   "source": [
    "selection_events={}\n",
    "for s in samples:\n",
    "    # trigger\n",
    "    trigger = ((branches[s]['trigM'] == True) | (branches[s]['trigE'] == True))\n",
    "    sum_leptons = branches[s]['sum_good_lep'] == 4\n",
    "    sum_charge = branches[s]['sum_lep_charge'] == 0\n",
    "    sum_types_ee = branches[s]['goodlep_sumtypes'] == 44\n",
    "    sum_types_mm = branches[s]['goodlep_sumtypes'] == 52\n",
    "    sum_types_em = branches[s]['goodlep_sumtypes'] == 48\n",
    "    sum_types_goodlep = (sum_types_ee | sum_types_mm | sum_types_em)\n",
    "    sum_lep_selection = (sum_leptons & sum_charge & sum_types_goodlep)\n",
    "    # Select leptons with high transverse momentum\n",
    "    pt_0_selection = ((branches[s]['lep_pt'][:,0] > 25000) & (branches[s]['good_lep'][:,0] == 1))\n",
    "    pt_1_selection = ((branches[s]['lep_pt'][:,1] > 15000) & (branches[s]['good_lep'][:,1] == 1))\n",
    "    pt_2_selection = ((branches[s]['lep_pt'][:,2] > 10000) & (branches[s]['good_lep'][:,2] == 1))\n",
    "    high_pt_selection = (pt_0_selection & pt_1_selection & pt_2_selection)\n",
    "    final_selection = trigger & sum_types_goodlep & sum_lep_selection & high_pt_selection\n",
    "    selection_events[s] = final_selection"
   ]
  },
  {
   "cell_type": "code",
   "execution_count": 13,
   "id": "unique-python",
   "metadata": {},
   "outputs": [
    {
     "name": "stdout",
     "output_type": "stream",
     "text": [
      "data_A       Initial events:  32\n",
      "data_B       Initial events:  108\n",
      "data_C       Initial events:  174\n",
      "data_D       Initial events:  277\n",
      "mc_345060.ggH125_ZZ4lep       Initial events:  163316\n",
      "mc_344235.VBFH125_ZZ4lep       Initial events:  189542\n",
      "mc_363490.llll       Initial events:  547603\n",
      "mc_361106.Zee       Initial events:  244\n",
      "mc_361107.Zmumu       Initial events:  148\n"
     ]
    }
   ],
   "source": [
    "for s in samples:\n",
    "    print(s,'      Initial events: ', len(branches[s]['m4l']))"
   ]
  },
  {
   "cell_type": "code",
   "execution_count": 14,
   "id": "global-blake",
   "metadata": {},
   "outputs": [
    {
     "name": "stdout",
     "output_type": "stream",
     "text": [
      "data_A       After selection:  18\n",
      "data_B       After selection:  52\n",
      "data_C       After selection:  93\n",
      "data_D       After selection:  158\n",
      "mc_345060.ggH125_ZZ4lep       After selection:  141559\n",
      "mc_344235.VBFH125_ZZ4lep       After selection:  161087\n",
      "mc_363490.llll       After selection:  454699\n",
      "mc_361106.Zee       After selection:  27\n",
      "mc_361107.Zmumu       After selection:  16\n"
     ]
    }
   ],
   "source": [
    "for s in samples:\n",
    "    print(s,'      After selection: ', len(branches[s]['m4l'][selection_events[s]]))"
   ]
  },
  {
   "cell_type": "code",
   "execution_count": 15,
   "id": "indonesian-episode",
   "metadata": {},
   "outputs": [],
   "source": [
    "mc_samples=samples[4:]"
   ]
  },
  {
   "cell_type": "code",
   "execution_count": 16,
   "id": "rapid-purple",
   "metadata": {},
   "outputs": [],
   "source": [
    "data_samples=samples[:4]"
   ]
  },
  {
   "cell_type": "code",
   "execution_count": 17,
   "id": "advised-saskatchewan",
   "metadata": {},
   "outputs": [
    {
     "name": "stdout",
     "output_type": "stream",
     "text": [
      "141559\n",
      "161087\n",
      "454699\n",
      "27\n",
      "16\n"
     ]
    }
   ],
   "source": [
    "stack_mc_list=[]\n",
    "for s in mc_samples:\n",
    "    mc_selection_values=branches[s]['m4l'][selection_events[s]]\n",
    "    stack_mc_list.append(mc_selection_values)\n",
    "    print(len(mc_selection_values))"
   ]
  },
  {
   "cell_type": "code",
   "execution_count": 18,
   "id": "religious-leonard",
   "metadata": {},
   "outputs": [
    {
     "name": "stdout",
     "output_type": "stream",
     "text": [
      "141559\n",
      "161087\n",
      "454699\n",
      "27\n",
      "16\n"
     ]
    }
   ],
   "source": [
    "stack_weights_list=[]\n",
    "for s in mc_samples:\n",
    "    mc_selection_weight=branches[s]['weight'][selection_events[s]]\n",
    "    stack_weights_list.append(mc_selection_weight)\n",
    "    print(len(mc_selection_weight))"
   ]
  },
  {
   "cell_type": "code",
   "execution_count": 19,
   "id": "extensive-windows",
   "metadata": {},
   "outputs": [
    {
     "name": "stdout",
     "output_type": "stream",
     "text": [
      "data_A 18\n",
      "data_B 52\n",
      "data_C 93\n",
      "data_D 158\n"
     ]
    }
   ],
   "source": [
    "stack_data_list=[]\n",
    "for d in data_samples:\n",
    "    data_list=list(branches[d]['m4l'][selection_events[d]])\n",
    "    stack_data_list+=data_list\n",
    "    print(d,len(data_list))"
   ]
  },
  {
   "cell_type": "code",
   "execution_count": 20,
   "id": "medieval-venue",
   "metadata": {},
   "outputs": [],
   "source": [
    "def plotData(data_var, range_ab, bins_samples):\n",
    "    data_hist,bins = np.histogram(data_var, range=range_ab, bins=bins_samples) \n",
    "    #data_hist, bins = plt.hist(data_var, range=range_ab, stacked=True, bins=bins_samples)\n",
    "    print(data_hist, bins)\n",
    "    data_hist_errors = np.sqrt( data_hist )\n",
    "    bin_center=(bins[1:]+bins[:-1])/2\n",
    "    h0=plt.errorbar(x=bin_center, y=data_hist, yerr=data_hist_errors,fmt='ko', label='Data')"
   ]
  },
  {
   "cell_type": "code",
   "execution_count": 21,
   "id": "experienced-quality",
   "metadata": {},
   "outputs": [],
   "source": [
    "var_name = 'm4l'\n",
    "units = ' [GeV]'\n",
    "rangos = [[80,170]]\n",
    "bines = 24 #int((rangos[0][-1]-rangos[0][0])/5)"
   ]
  },
  {
   "cell_type": "code",
   "execution_count": 22,
   "id": "bound-transfer",
   "metadata": {},
   "outputs": [
    {
     "name": "stdout",
     "output_type": "stream",
     "text": [
      "[ 1  6 20  7  4  3  1  0  2  1  7  9  7  3  3  1  4  1  2  4  2  1  4  2] [ 80.    83.75  87.5   91.25  95.    98.75 102.5  106.25 110.   113.75\n",
      " 117.5  121.25 125.   128.75 132.5  136.25 140.   143.75 147.5  151.25\n",
      " 155.   158.75 162.5  166.25 170.  ]\n"
     ]
    },
    {
     "name": "stderr",
     "output_type": "stream",
     "text": [
      "/home/marcela/anaconda3/envs/worknew/lib/python3.8/site-packages/numpy/core/_asarray.py:83: VisibleDeprecationWarning: Creating an ndarray from ragged nested sequences (which is a list-or-tuple of lists-or-tuples-or ndarrays with different lengths or shapes) is deprecated. If you meant to do this, you must specify 'dtype=object' when creating the ndarray\n",
      "  return array(a, dtype, copy=False, order=order)\n"
     ]
    },
    {
     "data": {
      "image/png": "[encoded data removed]",
      "text/plain": [
       "<Figure size 720x576 with 1 Axes>"
      ]
     },
     "metadata": {
      "needs_background": "light"
     },
     "output_type": "display_data"
    }
   ],
   "source": [
    "plt.figure(figsize=(10,8))\n",
    "plt.title(var_name)\n",
    "plotData(stack_data_list, rangos[0], bines)\n",
    "h1=plt.hist(stack_mc_list, range=rangos[0], label=mc_samples, stacked=True, weights=stack_weights_list, bins=bines)\n",
    "plt.ylabel('Events', fontsize=18)\n",
    "plt.xlabel(var_name+units, fontsize=18)\n",
    "#plt.yscale('log')\n",
    "plt.tick_params(which='both', # ticks on both x and y axes\n",
    "                direction='in', # Put ticks inside and outside the axes\n",
    "                top=True, # draw ticks on the top axis\n",
    "                right=True, length=6, width=1)\n",
    "plt.yticks(fontsize=16)\n",
    "plt.xticks(fontsize=16)\n",
    "plt.ylim(0,30)\n",
    "plt.legend(fontsize=18,frameon=False)\n",
    "plt.show()\n",
    "plt.close()"
   ]
  },
  {
   "cell_type": "code",
   "execution_count": null,
   "id": "incorporated-aviation",
   "metadata": {},
   "outputs": [],
   "source": []
  }
 ],
 "metadata": {
  "kernelspec": {
   "display_name": "Python [conda env:worknew] *",
   "language": "python",
   "name": "conda-env-worknew-py"
  },
  "language_info": {
   "codemirror_mode": {
    "name": "ipython",
    "version": 3
   },
   "file_extension": ".py",
   "mimetype": "text/x-python",
   "name": "python",
   "nbconvert_exporter": "python",
   "pygments_lexer": "ipython3",
   "version": "3.8.4"
  }
 },
 "nbformat": 4,
 "nbformat_minor": 5
}
